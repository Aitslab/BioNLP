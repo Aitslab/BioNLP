{
  "nbformat": 4,
  "nbformat_minor": 0,
  "metadata": {
    "colab": {
      "provenance": [],
      "authorship_tag": "ABX9TyMWWebBHeg0BE1/xgG+5x7v",
      "include_colab_link": true
    },
    "kernelspec": {
      "name": "python3",
      "display_name": "Python 3"
    },
    "language_info": {
      "name": "python"
    }
  },
  "cells": [
    {
      "cell_type": "markdown",
      "metadata": {
        "id": "view-in-github",
        "colab_type": "text"
      },
      "source": [
        "<a href=\"https://colab.research.google.com/github/Aitslab/BioNLP/blob/master/evaluation_scripts/NERevaluation.ipynb\" target=\"_parent\"><img src=\"https://colab.research.google.com/assets/colab-badge.svg\" alt=\"Open In Colab\"/></a>"
      ]
    },
    {
      "cell_type": "markdown",
      "source": [
        "# Comparison of NER evaluation scripts\n",
        "author: Sonja Aits\n",
        "\n",
        "This notebook serves to illustrate differences between NER evaluation approaches.\n",
        "The BioBERT evaluation script calculates metrics using seqeval (in default mode) which returns entity-level metrics.\n",
        "In contrast scikit learn returns token-level metrics."
      ],
      "metadata": {
        "id": "4DBnWd-Hxdl0"
      }
    },
    {
      "cell_type": "code",
      "source": [
        "# install seqeval\n",
        "!pip install seqeval"
      ],
      "metadata": {
        "colab": {
          "base_uri": "https://localhost:8080/"
        },
        "id": "9p5eIqrbdoOS",
        "outputId": "ce8a92c5-5d5b-48bc-c024-cacc64df8710"
      },
      "execution_count": null,
      "outputs": [
        {
          "output_type": "stream",
          "name": "stdout",
          "text": [
            "Looking in indexes: https://pypi.org/simple, https://us-python.pkg.dev/colab-wheels/public/simple/\n",
            "Collecting seqeval\n",
            "  Downloading seqeval-1.2.2.tar.gz (43 kB)\n",
            "\u001b[2K     \u001b[90m━━━━━━━━━━━━━━━━━━━━━━━━━━━━━━━━━━━━━━━━\u001b[0m \u001b[32m43.6/43.6 KB\u001b[0m \u001b[31m2.4 MB/s\u001b[0m eta \u001b[36m0:00:00\u001b[0m\n",
            "\u001b[?25h  Preparing metadata (setup.py) ... \u001b[?25l\u001b[?25hdone\n",
            "Requirement already satisfied: numpy>=1.14.0 in /usr/local/lib/python3.9/dist-packages (from seqeval) (1.22.4)\n",
            "Requirement already satisfied: scikit-learn>=0.21.3 in /usr/local/lib/python3.9/dist-packages (from seqeval) (1.2.2)\n",
            "Requirement already satisfied: threadpoolctl>=2.0.0 in /usr/local/lib/python3.9/dist-packages (from scikit-learn>=0.21.3->seqeval) (3.1.0)\n",
            "Requirement already satisfied: joblib>=1.1.1 in /usr/local/lib/python3.9/dist-packages (from scikit-learn>=0.21.3->seqeval) (1.1.1)\n",
            "Requirement already satisfied: scipy>=1.3.2 in /usr/local/lib/python3.9/dist-packages (from scikit-learn>=0.21.3->seqeval) (1.10.1)\n",
            "Building wheels for collected packages: seqeval\n",
            "  Building wheel for seqeval (setup.py) ... \u001b[?25l\u001b[?25hdone\n",
            "  Created wheel for seqeval: filename=seqeval-1.2.2-py3-none-any.whl size=16180 sha256=b67c928393eb178369bd51ecb17e820000ec0aca3bed5a6ec0c18fa6b9593963\n",
            "  Stored in directory: /root/.cache/pip/wheels/e2/a5/92/2c80d1928733611c2747a9820e1324a6835524d9411510c142\n",
            "Successfully built seqeval\n",
            "Installing collected packages: seqeval\n",
            "Successfully installed seqeval-1.2.2\n"
          ]
        }
      ]
    },
    {
      "cell_type": "code",
      "source": [
        "from seqeval.metrics import classification_report, f1_score, precision_score, recall_score\n",
        "from sklearn.metrics import confusion_matrix as sk_cm\n",
        "from sklearn.metrics import ConfusionMatrixDisplay\n",
        "from sklearn.metrics import classification_report as sk_classification_report"
      ],
      "metadata": {
        "id": "DoQEWPNltJ7U"
      },
      "execution_count": 91,
      "outputs": []
    },
    {
      "cell_type": "code",
      "source": [
        "# evaluation with two entity classes\n",
        "\n",
        "y_true = [['O', 'B-TAXON', 'I-TAXON', 'O', 'O', 'B-CL', 'B-CL']]\n",
        "y_pred = [['O', 'B-TAXON', 'I-TAXON', 'O', 'O', 'B-CL', 'O']]\n",
        "\n",
        "print('seqeval metrics')\n",
        "print('Precision: '+str(precision_score(y_true, y_pred)))\n",
        "print('Recall: '+str(recall_score(y_true, y_pred)))\n",
        "print('F1: '+str(f1_score(y_true, y_pred)))\n",
        "print(classification_report(y_true, y_pred))"
      ],
      "metadata": {
        "colab": {
          "base_uri": "https://localhost:8080/"
        },
        "id": "dxpb6QYCbeYH",
        "outputId": "74c59c80-32d9-4d34-d49e-4b56697c8547"
      },
      "execution_count": 124,
      "outputs": [
        {
          "output_type": "stream",
          "name": "stdout",
          "text": [
            "seqeval metrics\n",
            "Precision: 1.0\n",
            "Recall: 0.6666666666666666\n",
            "F1: 0.8\n",
            "              precision    recall  f1-score   support\n",
            "\n",
            "          CL       1.00      0.50      0.67         2\n",
            "       TAXON       1.00      1.00      1.00         1\n",
            "\n",
            "   micro avg       1.00      0.67      0.80         3\n",
            "   macro avg       1.00      0.75      0.83         3\n",
            "weighted avg       1.00      0.67      0.78         3\n",
            "\n"
          ]
        }
      ]
    },
    {
      "cell_type": "code",
      "source": [
        "# evaluation with one entity class, one truncated entity (I to O)\n",
        "y_true = [['O', 'B', 'I', 'B']]\n",
        "y_pred = [['O', 'B', 'O', 'B']]\n",
        "\n",
        "print('seqeval metrics')\n",
        "print('Precision: '+str(precision_score(y_true, y_pred)))\n",
        "print('Recall: '+str(recall_score(y_true, y_pred)))\n",
        "print('F1: '+str(f1_score(y_true, y_pred)))\n",
        "print(classification_report(y_true, y_pred))\n",
        "\n",
        "y_true_flattened = ['O', 'B', 'I', 'B']\n",
        "y_pred_flattened = ['O', 'B', 'O', 'B']\n",
        "\n",
        "print('-------------------------------------')\n",
        "\n",
        "print('sklearn metrics')\n",
        "print(sk_classification_report(y_true_flattened, y_pred_flattened, labels=['B','I','O']))\n",
        "cm = sk_cm(y_true_flattened, y_pred_flattened, labels=['B','I','O'])\n",
        "disp = ConfusionMatrixDisplay(confusion_matrix=cm,display_labels=['B','I','O'])\n",
        "disp.plot()"
      ],
      "metadata": {
        "colab": {
          "base_uri": "https://localhost:8080/",
          "height": 1000
        },
        "id": "yxoTjSzXhY8w",
        "outputId": "ce5b8849-58bb-4f69-82ff-6b4f5273f668"
      },
      "execution_count": 125,
      "outputs": [
        {
          "output_type": "stream",
          "name": "stdout",
          "text": [
            "seqeval metrics\n",
            "Precision: 0.5\n",
            "Recall: 0.5\n",
            "F1: 0.5\n",
            "              precision    recall  f1-score   support\n",
            "\n",
            "           _       0.50      0.50      0.50         2\n",
            "\n",
            "   micro avg       0.50      0.50      0.50         2\n",
            "   macro avg       0.50      0.50      0.50         2\n",
            "weighted avg       0.50      0.50      0.50         2\n",
            "\n",
            "-------------------------------------\n",
            "sklearn metrics\n",
            "              precision    recall  f1-score   support\n",
            "\n",
            "           B       1.00      1.00      1.00         2\n",
            "           I       0.00      0.00      0.00         1\n",
            "           O       0.50      1.00      0.67         1\n",
            "\n",
            "    accuracy                           0.75         4\n",
            "   macro avg       0.50      0.67      0.56         4\n",
            "weighted avg       0.62      0.75      0.67         4\n",
            "\n"
          ]
        },
        {
          "output_type": "stream",
          "name": "stderr",
          "text": [
            "/usr/local/lib/python3.9/dist-packages/sklearn/metrics/_classification.py:1344: UndefinedMetricWarning: Precision and F-score are ill-defined and being set to 0.0 in labels with no predicted samples. Use `zero_division` parameter to control this behavior.\n",
            "  _warn_prf(average, modifier, msg_start, len(result))\n",
            "/usr/local/lib/python3.9/dist-packages/sklearn/metrics/_classification.py:1344: UndefinedMetricWarning: Precision and F-score are ill-defined and being set to 0.0 in labels with no predicted samples. Use `zero_division` parameter to control this behavior.\n",
            "  _warn_prf(average, modifier, msg_start, len(result))\n",
            "/usr/local/lib/python3.9/dist-packages/sklearn/metrics/_classification.py:1344: UndefinedMetricWarning: Precision and F-score are ill-defined and being set to 0.0 in labels with no predicted samples. Use `zero_division` parameter to control this behavior.\n",
            "  _warn_prf(average, modifier, msg_start, len(result))\n"
          ]
        },
        {
          "output_type": "execute_result",
          "data": {
            "text/plain": [
              "<sklearn.metrics._plot.confusion_matrix.ConfusionMatrixDisplay at 0x7fc78dfe7160>"
            ]
          },
          "metadata": {},
          "execution_count": 125
        },
        {
          "output_type": "display_data",
          "data": {
            "text/plain": [
              "<Figure size 640x480 with 2 Axes>"
            ],
            "image/png": "[encoded data removed]"
          },
          "metadata": {}
        }
      ]
    },
    {
      "cell_type": "code",
      "source": [
        "# evaluation with one entity class, one partial match (I to O)\n",
        "\n",
        "TP = 1\n",
        "FP = 1\n",
        "FN = 1\n",
        "\n",
        "precision = TP/(TP+FP)\n",
        "print(precision)\n",
        "\n",
        "recall = TP/(TP+FN)\n",
        "print(recall)"
      ],
      "metadata": {
        "colab": {
          "base_uri": "https://localhost:8080/"
        },
        "id": "nw3z6L84psM3",
        "outputId": "c430415c-d156-46fc-8eb1-4e9d5b6e69fd"
      },
      "execution_count": 109,
      "outputs": [
        {
          "output_type": "stream",
          "name": "stdout",
          "text": [
            "0.5\n",
            "0.5\n"
          ]
        }
      ]
    },
    {
      "cell_type": "code",
      "source": [
        "# evaluation with one entity class, one partial match wrongly predicted as additional entity (I to B)\n",
        "y_true = [['O', 'B', 'I', 'B']]\n",
        "y_pred = [['O', 'B', 'B', 'B']]\n",
        "\n",
        "print('seqeval metrics')\n",
        "print('Precision: '+str(precision_score(y_true, y_pred)))\n",
        "print('Recall: '+str(recall_score(y_true, y_pred)))\n",
        "print('F1: '+str(f1_score(y_true, y_pred)))\n",
        "print(classification_report(y_true, y_pred))\n",
        "\n",
        "y_true_flattened = ['O', 'B', 'I', 'B']\n",
        "y_pred_flattened = ['O', 'B', 'B', 'B']\n",
        "\n",
        "print('-------------------------------------')\n",
        "\n",
        "print('sklearn metrics')\n",
        "print(sk_classification_report(y_true_flattened, y_pred_flattened, labels=['B','I','O']))\n",
        "cm = sk_cm(y_true_flattened, y_pred_flattened, labels=['B','I','O'])\n",
        "disp = ConfusionMatrixDisplay(confusion_matrix=cm,display_labels=['B','I','O'])\n",
        "disp.plot()"
      ],
      "metadata": {
        "colab": {
          "base_uri": "https://localhost:8080/",
          "height": 1000
        },
        "id": "ri9wIPXOpQz-",
        "outputId": "cc677e30-a313-4bb6-c3bd-fd136c156773"
      },
      "execution_count": 112,
      "outputs": [
        {
          "output_type": "stream",
          "name": "stdout",
          "text": [
            "seqeval metrics\n",
            "Precision: 0.3333333333333333\n",
            "Recall: 0.5\n",
            "F1: 0.4\n",
            "              precision    recall  f1-score   support\n",
            "\n",
            "           _       0.33      0.50      0.40         2\n",
            "\n",
            "   micro avg       0.33      0.50      0.40         2\n",
            "   macro avg       0.33      0.50      0.40         2\n",
            "weighted avg       0.33      0.50      0.40         2\n",
            "\n",
            "-------------------------------------\n",
            "sklearn metrics\n",
            "              precision    recall  f1-score   support\n",
            "\n",
            "           B       0.67      1.00      0.80         2\n",
            "           I       0.00      0.00      0.00         1\n",
            "           O       1.00      1.00      1.00         1\n",
            "\n",
            "    accuracy                           0.75         4\n",
            "   macro avg       0.56      0.67      0.60         4\n",
            "weighted avg       0.58      0.75      0.65         4\n",
            "\n"
          ]
        },
        {
          "output_type": "stream",
          "name": "stderr",
          "text": [
            "/usr/local/lib/python3.9/dist-packages/sklearn/metrics/_classification.py:1344: UndefinedMetricWarning: Precision and F-score are ill-defined and being set to 0.0 in labels with no predicted samples. Use `zero_division` parameter to control this behavior.\n",
            "  _warn_prf(average, modifier, msg_start, len(result))\n",
            "/usr/local/lib/python3.9/dist-packages/sklearn/metrics/_classification.py:1344: UndefinedMetricWarning: Precision and F-score are ill-defined and being set to 0.0 in labels with no predicted samples. Use `zero_division` parameter to control this behavior.\n",
            "  _warn_prf(average, modifier, msg_start, len(result))\n",
            "/usr/local/lib/python3.9/dist-packages/sklearn/metrics/_classification.py:1344: UndefinedMetricWarning: Precision and F-score are ill-defined and being set to 0.0 in labels with no predicted samples. Use `zero_division` parameter to control this behavior.\n",
            "  _warn_prf(average, modifier, msg_start, len(result))\n"
          ]
        },
        {
          "output_type": "execute_result",
          "data": {
            "text/plain": [
              "<sklearn.metrics._plot.confusion_matrix.ConfusionMatrixDisplay at 0x7fc76d766eb0>"
            ]
          },
          "metadata": {},
          "execution_count": 112
        },
        {
          "output_type": "display_data",
          "data": {
            "text/plain": [
              "<Figure size 640x480 with 2 Axes>"
            ],
            "image/png": "[encoded data removed]"
          },
          "metadata": {}
        }
      ]
    },
    {
      "cell_type": "code",
      "source": [
        "# evaluation with one entity class, one partial match wrongly predicted as additional entity (I to B)\n",
        "\n",
        "TP = 1\n",
        "FP = 2\n",
        "FN = 1\n",
        "\n",
        "precision = TP/(TP+FP)\n",
        "print(precision)\n",
        "\n",
        "recall = TP/(TP+FN)\n",
        "print(recall)"
      ],
      "metadata": {
        "colab": {
          "base_uri": "https://localhost:8080/"
        },
        "id": "yRCEsKvo84-S",
        "outputId": "9da508f1-d355-4733-921c-7e9a24a49f7a"
      },
      "execution_count": 113,
      "outputs": [
        {
          "output_type": "stream",
          "name": "stdout",
          "text": [
            "0.3333333333333333\n",
            "0.5\n"
          ]
        }
      ]
    },
    {
      "cell_type": "code",
      "source": [
        "# evaluation with one entity class, one single token entity missed (B to O)\n",
        "y_true = [['O', 'B', 'I', 'B']]\n",
        "y_pred = [['O', 'B', 'I', 'O']]\n",
        "\n",
        "print('seqeval metrics')\n",
        "print('Precision: '+str(precision_score(y_true, y_pred)))\n",
        "print('Recall: '+str(recall_score(y_true, y_pred)))\n",
        "print('F1: '+str(f1_score(y_true, y_pred)))\n",
        "print(classification_report(y_true, y_pred))\n",
        "\n",
        "y_true_flattened = ['O', 'B', 'I', 'B']\n",
        "y_pred_flattened = ['O', 'B', 'I', 'O']\n",
        "\n",
        "print('-------------------------------------')\n",
        "\n",
        "print('sklearn metrics')\n",
        "print(sk_classification_report(y_true_flattened, y_pred_flattened, labels=['B','I','O']))\n",
        "cm = sk_cm(y_true_flattened, y_pred_flattened, labels=['B','I','O'])\n",
        "disp = ConfusionMatrixDisplay(confusion_matrix=cm,display_labels=['B','I','O'])\n",
        "disp.plot()"
      ],
      "metadata": {
        "colab": {
          "base_uri": "https://localhost:8080/",
          "height": 889
        },
        "id": "vi4dvDoglJiw",
        "outputId": "99f70400-36fc-4ddd-8330-ed1c44868b14"
      },
      "execution_count": 114,
      "outputs": [
        {
          "output_type": "stream",
          "name": "stdout",
          "text": [
            "seqeval metrics\n",
            "Precision: 1.0\n",
            "Recall: 0.5\n",
            "F1: 0.6666666666666666\n",
            "              precision    recall  f1-score   support\n",
            "\n",
            "           _       1.00      0.50      0.67         2\n",
            "\n",
            "   micro avg       1.00      0.50      0.67         2\n",
            "   macro avg       1.00      0.50      0.67         2\n",
            "weighted avg       1.00      0.50      0.67         2\n",
            "\n",
            "-------------------------------------\n",
            "sklearn metrics\n",
            "              precision    recall  f1-score   support\n",
            "\n",
            "           B       1.00      0.50      0.67         2\n",
            "           I       1.00      1.00      1.00         1\n",
            "           O       0.50      1.00      0.67         1\n",
            "\n",
            "    accuracy                           0.75         4\n",
            "   macro avg       0.83      0.83      0.78         4\n",
            "weighted avg       0.88      0.75      0.75         4\n",
            "\n"
          ]
        },
        {
          "output_type": "execute_result",
          "data": {
            "text/plain": [
              "<sklearn.metrics._plot.confusion_matrix.ConfusionMatrixDisplay at 0x7fc76a494670>"
            ]
          },
          "metadata": {},
          "execution_count": 114
        },
        {
          "output_type": "display_data",
          "data": {
            "text/plain": [
              "<Figure size 640x480 with 2 Axes>"
            ],
            "image/png": "[encoded data removed]"
          },
          "metadata": {}
        }
      ]
    },
    {
      "cell_type": "code",
      "source": [
        "# evaluation with one entity class, one single token entity missed (B to O)\n",
        "\n",
        "TP = 1\n",
        "FP = 0\n",
        "FN = 1\n",
        "\n",
        "precision = TP/(TP+FP)\n",
        "print(precision)\n",
        "\n",
        "recall = TP/(TP+FN)\n",
        "print(recall)"
      ],
      "metadata": {
        "colab": {
          "base_uri": "https://localhost:8080/"
        },
        "id": "5BNSoqNBm5Gn",
        "outputId": "8bbcc0b2-2b44-49be-e3bd-9bd846bef70a"
      },
      "execution_count": 115,
      "outputs": [
        {
          "output_type": "stream",
          "name": "stdout",
          "text": [
            "1.0\n",
            "0.5\n"
          ]
        }
      ]
    },
    {
      "cell_type": "code",
      "source": [
        "# evaluation with one entity class, one two-token entity missed (B-I to O-O)\n",
        "y_true = [['O', 'B', 'I', 'B']]\n",
        "y_pred = [['O', 'O', 'O', 'B']]\n",
        "\n",
        "print('seqeval metrics')\n",
        "print('Precision: '+str(precision_score(y_true, y_pred)))\n",
        "print('Recall: '+str(recall_score(y_true, y_pred)))\n",
        "print('F1: '+str(f1_score(y_true, y_pred)))\n",
        "print(classification_report(y_true, y_pred))\n",
        "\n",
        "y_true_flattened = ['O', 'B', 'I', 'B']\n",
        "y_pred_flattened = ['O', 'O', 'O', 'B']\n",
        "\n",
        "print('-------------------------------------')\n",
        "\n",
        "print('sklearn metrics')\n",
        "print(sk_classification_report(y_true_flattened, y_pred_flattened, labels=['B','I','O']))\n",
        "cm = sk_cm(y_true_flattened, y_pred_flattened, labels=['B','I','O'])\n",
        "disp = ConfusionMatrixDisplay(confusion_matrix=cm,display_labels=['B','I','O'])\n",
        "disp.plot()"
      ],
      "metadata": {
        "colab": {
          "base_uri": "https://localhost:8080/",
          "height": 1000
        },
        "id": "_-hK9kPZ-jfn",
        "outputId": "0574ee49-c1ec-4980-e6e6-3c673bebf661"
      },
      "execution_count": 116,
      "outputs": [
        {
          "output_type": "stream",
          "name": "stdout",
          "text": [
            "seqeval metrics\n",
            "Precision: 1.0\n",
            "Recall: 0.5\n",
            "F1: 0.6666666666666666\n",
            "              precision    recall  f1-score   support\n",
            "\n",
            "           _       1.00      0.50      0.67         2\n",
            "\n",
            "   micro avg       1.00      0.50      0.67         2\n",
            "   macro avg       1.00      0.50      0.67         2\n",
            "weighted avg       1.00      0.50      0.67         2\n",
            "\n",
            "-------------------------------------\n",
            "sklearn metrics\n",
            "              precision    recall  f1-score   support\n",
            "\n",
            "           B       1.00      0.50      0.67         2\n",
            "           I       0.00      0.00      0.00         1\n",
            "           O       0.33      1.00      0.50         1\n",
            "\n",
            "    accuracy                           0.50         4\n",
            "   macro avg       0.44      0.50      0.39         4\n",
            "weighted avg       0.58      0.50      0.46         4\n",
            "\n"
          ]
        },
        {
          "output_type": "stream",
          "name": "stderr",
          "text": [
            "/usr/local/lib/python3.9/dist-packages/sklearn/metrics/_classification.py:1344: UndefinedMetricWarning: Precision and F-score are ill-defined and being set to 0.0 in labels with no predicted samples. Use `zero_division` parameter to control this behavior.\n",
            "  _warn_prf(average, modifier, msg_start, len(result))\n",
            "/usr/local/lib/python3.9/dist-packages/sklearn/metrics/_classification.py:1344: UndefinedMetricWarning: Precision and F-score are ill-defined and being set to 0.0 in labels with no predicted samples. Use `zero_division` parameter to control this behavior.\n",
            "  _warn_prf(average, modifier, msg_start, len(result))\n",
            "/usr/local/lib/python3.9/dist-packages/sklearn/metrics/_classification.py:1344: UndefinedMetricWarning: Precision and F-score are ill-defined and being set to 0.0 in labels with no predicted samples. Use `zero_division` parameter to control this behavior.\n",
            "  _warn_prf(average, modifier, msg_start, len(result))\n"
          ]
        },
        {
          "output_type": "execute_result",
          "data": {
            "text/plain": [
              "<sklearn.metrics._plot.confusion_matrix.ConfusionMatrixDisplay at 0x7fc78ba8c0a0>"
            ]
          },
          "metadata": {},
          "execution_count": 116
        },
        {
          "output_type": "display_data",
          "data": {
            "text/plain": [
              "<Figure size 640x480 with 2 Axes>"
            ],
            "image/png": "[encoded data removed]"
          },
          "metadata": {}
        }
      ]
    },
    {
      "cell_type": "code",
      "source": [
        "# evaluation with one entity class, extra entity predicted\n",
        "y_true = [['O', 'B', 'I', 'B']]\n",
        "y_pred = [['B', 'B', 'I', 'B']]\n",
        "\n",
        "print('seqeval metrics')\n",
        "print('Precision: '+str(precision_score(y_true, y_pred)))\n",
        "print('Recall: '+str(recall_score(y_true, y_pred)))\n",
        "print('F1: '+str(f1_score(y_true, y_pred)))\n",
        "print(classification_report(y_true, y_pred))\n",
        "\n",
        "y_true_flattened = ['O', 'B', 'I', 'B']\n",
        "y_pred_flattened = ['B', 'B', 'I', 'B']\n",
        "\n",
        "print('-------------------------------------')\n",
        "\n",
        "print('sklearn metrics')\n",
        "print(sk_classification_report(y_true_flattened, y_pred_flattened, labels=['B','I','O']))\n",
        "cm = sk_cm(y_true_flattened, y_pred_flattened, labels=['B','I','O'])\n",
        "disp = ConfusionMatrixDisplay(confusion_matrix=cm,display_labels=['B','I','O'])\n",
        "disp.plot()"
      ],
      "metadata": {
        "colab": {
          "base_uri": "https://localhost:8080/",
          "height": 1000
        },
        "id": "henI3bWB__2w",
        "outputId": "cd64335a-a23f-43ec-b33c-8a0219294142"
      },
      "execution_count": 121,
      "outputs": [
        {
          "output_type": "stream",
          "name": "stdout",
          "text": [
            "seqeval metrics\n",
            "Precision: 0.6666666666666666\n",
            "Recall: 1.0\n",
            "F1: 0.8\n",
            "              precision    recall  f1-score   support\n",
            "\n",
            "           _       0.67      1.00      0.80         2\n",
            "\n",
            "   micro avg       0.67      1.00      0.80         2\n",
            "   macro avg       0.67      1.00      0.80         2\n",
            "weighted avg       0.67      1.00      0.80         2\n",
            "\n",
            "-------------------------------------\n",
            "sklearn metrics\n",
            "              precision    recall  f1-score   support\n",
            "\n",
            "           B       0.67      1.00      0.80         2\n",
            "           I       1.00      1.00      1.00         1\n",
            "           O       0.00      0.00      0.00         1\n",
            "\n",
            "    accuracy                           0.75         4\n",
            "   macro avg       0.56      0.67      0.60         4\n",
            "weighted avg       0.58      0.75      0.65         4\n",
            "\n"
          ]
        },
        {
          "output_type": "stream",
          "name": "stderr",
          "text": [
            "/usr/local/lib/python3.9/dist-packages/sklearn/metrics/_classification.py:1344: UndefinedMetricWarning: Precision and F-score are ill-defined and being set to 0.0 in labels with no predicted samples. Use `zero_division` parameter to control this behavior.\n",
            "  _warn_prf(average, modifier, msg_start, len(result))\n",
            "/usr/local/lib/python3.9/dist-packages/sklearn/metrics/_classification.py:1344: UndefinedMetricWarning: Precision and F-score are ill-defined and being set to 0.0 in labels with no predicted samples. Use `zero_division` parameter to control this behavior.\n",
            "  _warn_prf(average, modifier, msg_start, len(result))\n",
            "/usr/local/lib/python3.9/dist-packages/sklearn/metrics/_classification.py:1344: UndefinedMetricWarning: Precision and F-score are ill-defined and being set to 0.0 in labels with no predicted samples. Use `zero_division` parameter to control this behavior.\n",
            "  _warn_prf(average, modifier, msg_start, len(result))\n"
          ]
        },
        {
          "output_type": "execute_result",
          "data": {
            "text/plain": [
              "<sklearn.metrics._plot.confusion_matrix.ConfusionMatrixDisplay at 0x7fc78e161190>"
            ]
          },
          "metadata": {},
          "execution_count": 121
        },
        {
          "output_type": "display_data",
          "data": {
            "text/plain": [
              "<Figure size 640x480 with 2 Axes>"
            ],
            "image/png": "[encoded data removed]"
          },
          "metadata": {}
        }
      ]
    },
    {
      "cell_type": "code",
      "source": [
        "# evaluation with one entity class, extra entity predicted\n",
        "\n",
        "TP = 2\n",
        "FP = 1\n",
        "FN = 0\n",
        "\n",
        "precision = TP/(TP+FP)\n",
        "print(precision)\n",
        "\n",
        "recall = TP/(TP+FN)\n",
        "print(recall)"
      ],
      "metadata": {
        "colab": {
          "base_uri": "https://localhost:8080/"
        },
        "id": "PonPDrNuAYVc",
        "outputId": "afd7f367-d5a8-421d-f742-41951ec28757"
      },
      "execution_count": 119,
      "outputs": [
        {
          "output_type": "stream",
          "name": "stdout",
          "text": [
            "0.6666666666666666\n",
            "1.0\n"
          ]
        }
      ]
    },
    {
      "cell_type": "code",
      "source": [
        "# evaluation with one entity class, entity extended\n",
        "y_true = [['B', 'I', 'O', 'B']]\n",
        "y_pred = [['B', 'I', 'I', 'B']]\n",
        "\n",
        "print('seqeval metrics')\n",
        "print('Precision: '+str(precision_score(y_true, y_pred)))\n",
        "print('Recall: '+str(recall_score(y_true, y_pred)))\n",
        "print('F1: '+str(f1_score(y_true, y_pred)))\n",
        "print(classification_report(y_true, y_pred))\n",
        "\n",
        "y_true_flattened = ['B', 'I', 'O', 'B']\n",
        "y_pred_flattened = ['B', 'I', 'I', 'B']\n",
        "\n",
        "print('-------------------------------------')\n",
        "\n",
        "print('sklearn metrics')\n",
        "print(sk_classification_report(y_true_flattened, y_pred_flattened, labels=['B','I','O']))\n",
        "cm = sk_cm(y_true_flattened, y_pred_flattened, labels=['B','I','O'])\n",
        "disp = ConfusionMatrixDisplay(confusion_matrix=cm,display_labels=['B','I','O'])\n",
        "disp.plot()"
      ],
      "metadata": {
        "colab": {
          "base_uri": "https://localhost:8080/",
          "height": 1000
        },
        "id": "xwlyfr3XAs7Y",
        "outputId": "ccf5a6cd-d4db-4ef3-f745-a7e879495569"
      },
      "execution_count": 122,
      "outputs": [
        {
          "output_type": "stream",
          "name": "stdout",
          "text": [
            "seqeval metrics\n",
            "Precision: 0.5\n",
            "Recall: 0.5\n",
            "F1: 0.5\n",
            "              precision    recall  f1-score   support\n",
            "\n",
            "           _       0.50      0.50      0.50         2\n",
            "\n",
            "   micro avg       0.50      0.50      0.50         2\n",
            "   macro avg       0.50      0.50      0.50         2\n",
            "weighted avg       0.50      0.50      0.50         2\n",
            "\n",
            "-------------------------------------\n",
            "sklearn metrics\n",
            "              precision    recall  f1-score   support\n",
            "\n",
            "           B       1.00      1.00      1.00         2\n",
            "           I       0.50      1.00      0.67         1\n",
            "           O       0.00      0.00      0.00         1\n",
            "\n",
            "    accuracy                           0.75         4\n",
            "   macro avg       0.50      0.67      0.56         4\n",
            "weighted avg       0.62      0.75      0.67         4\n",
            "\n"
          ]
        },
        {
          "output_type": "stream",
          "name": "stderr",
          "text": [
            "/usr/local/lib/python3.9/dist-packages/sklearn/metrics/_classification.py:1344: UndefinedMetricWarning: Precision and F-score are ill-defined and being set to 0.0 in labels with no predicted samples. Use `zero_division` parameter to control this behavior.\n",
            "  _warn_prf(average, modifier, msg_start, len(result))\n",
            "/usr/local/lib/python3.9/dist-packages/sklearn/metrics/_classification.py:1344: UndefinedMetricWarning: Precision and F-score are ill-defined and being set to 0.0 in labels with no predicted samples. Use `zero_division` parameter to control this behavior.\n",
            "  _warn_prf(average, modifier, msg_start, len(result))\n",
            "/usr/local/lib/python3.9/dist-packages/sklearn/metrics/_classification.py:1344: UndefinedMetricWarning: Precision and F-score are ill-defined and being set to 0.0 in labels with no predicted samples. Use `zero_division` parameter to control this behavior.\n",
            "  _warn_prf(average, modifier, msg_start, len(result))\n"
          ]
        },
        {
          "output_type": "execute_result",
          "data": {
            "text/plain": [
              "<sklearn.metrics._plot.confusion_matrix.ConfusionMatrixDisplay at 0x7fc78e0deac0>"
            ]
          },
          "metadata": {},
          "execution_count": 122
        },
        {
          "output_type": "display_data",
          "data": {
            "text/plain": [
              "<Figure size 640x480 with 2 Axes>"
            ],
            "image/png": "[encoded data removed]"
          },
          "metadata": {}
        }
      ]
    },
    {
      "cell_type": "code",
      "source": [
        "# evaluation with one entity class, entity extended\n",
        "\n",
        "TP = 1\n",
        "FP = 1\n",
        "FN = 1\n",
        "\n",
        "precision = TP/(TP+FP)\n",
        "print(precision)\n",
        "\n",
        "recall = TP/(TP+FN)\n",
        "print(recall)"
      ],
      "metadata": {
        "colab": {
          "base_uri": "https://localhost:8080/"
        },
        "id": "Psqe3NqUBkgA",
        "outputId": "ead47627-bd01-407c-d34a-aee7f6b384d3"
      },
      "execution_count": 123,
      "outputs": [
        {
          "output_type": "stream",
          "name": "stdout",
          "text": [
            "0.5\n",
            "0.5\n"
          ]
        }
      ]
    }
  ]
}