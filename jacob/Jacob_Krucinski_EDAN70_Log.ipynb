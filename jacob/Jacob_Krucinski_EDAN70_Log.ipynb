{
 "cells": [
  {
   "attachments": {},
   "cell_type": "markdown",
   "metadata": {},
   "source": [
    "# Worklog: Jacob Krucinski"
   ]
  },
  {
   "attachments": {},
   "cell_type": "markdown",
   "metadata": {},
   "source": [
    "## Initial Research (2023/03/20 to 2023/04/01)\n",
    "\n",
    "* Got familiar with AitsLabs GitHub page, particularly `BioNLP` repository\n",
    "  * Looked through Klara's and Nils' folder: README, work log, and some scripts\n",
    "  * Skimmed through Klara's and Nils' final reports, along with Nils' presentation\n",
    "* NLP Refresher\n",
    "  * Reviewing a [tutorial](https://www.analyticsvidhya.com/blog/2022/02/sentiment-analysis-of-imdb-reviews-with-nlp/) I did a while ago for IMDB review sentiment analysis\n",
    "  * [Classification Metrics Formulas](https://en.wikipedia.org/wiki/Precision_and_recall)\n",
    "  * [Tokenization using NLTK Package](https://realpython.com/nltk-nlp-python/#tokenizing)\n",
    "  * [Gentle Introduction to NLP](https://towardsdatascience.com/a-really-gentle-introduction-to-nlp-in-python-part-1-4712fe18ff3)\n",
    "  * [NLP with Python Tutorial](https://towardsai.net/p/nlp/natural-language-processing-nlp-with-python-tutorial-for-beginners-1f54e610a1a0#27f3)\n"
   ]
  },
  {
   "attachments": {},
   "cell_type": "markdown",
   "metadata": {},
   "source": [
    "## 2023-04-04\n",
    "\n",
    "#### General\n",
    "First Meeting with Sonja\n",
    "\n",
    "#### Project\n",
    "Named Entity Recognition (NER) Pipeline for Biomedical Literature\n",
    "\n",
    "#### Aim\n",
    "Introduce myself to Sonja and see how I can contribute to her projects.\n",
    "\n",
    "#### Description\n",
    "Met with Sonja and introduced myself and my experience with ML/AI and NLP.\n",
    "Sonja gave me an overview of the NER Pipeline project they are currently working on, and where I can contribute.\n",
    "Also, discussed lab dynamics and NLP resources I can read through on my own time.\n",
    "\n",
    "#### Results/Conclusion\n",
    "N/A\n",
    "\n",
    "#### Next Steps\n",
    "Prepare for Thursday group meeting:\n",
    "* Read manuscript\n",
    "* Complete Onboarding\n",
    "\n",
    "---\n"
   ]
  },
  {
   "attachments": {},
   "cell_type": "markdown",
   "metadata": {},
   "source": [
    "## 2023-04-05\n",
    "\n",
    "#### Project\n",
    "Named Entity Recognition (NER) Pipeline for Biomedical Literature\n",
    "\n",
    "#### Aim\n",
    "Become more familiar with the NER project, specifically on a technical level (what corpora were used, what libraries/models were used, etc.).\n",
    "\n",
    "#### Description\n",
    "Worked on Onboarding tasks and read NER manuscript.\n",
    "Came up with some questions for tomorrow's meeting.\n",
    "\n",
    "#### Results/Conclusion\n",
    "N/A\n",
    "\n",
    "#### Next Steps\n",
    "N/A\n",
    "\n",
    "---\n"
   ]
  },
  {
   "attachments": {},
   "cell_type": "markdown",
   "metadata": {},
   "source": [
    "## 2023-04-06\n",
    "\n",
    "#### Project\n",
    "Named Entity Recognition (NER) Pipeline for Biomedical Literature\n",
    "\n",
    "#### Aim\n",
    "Meet CDLAI team (Peter and Rafsan) and start planning initial tasks.\n",
    "\n",
    "#### Description\n",
    "* Got account set up with Berzelius NSC\n",
    "* Created `jacob` folder for me on GitHub repository\n",
    "* Created logbook\n",
    "\n",
    "#### Results/Conclusion\n",
    "N/A\n",
    "\n",
    "#### Next Steps\n",
    "* Continue reading manuscript\n",
    "* Read BioGPT paper\n",
    "* Get familiar with HuggingFace\n",
    "\n",
    "---\n"
   ]
  },
  {
   "cell_type": "markdown",
   "metadata": {},
   "source": []
  }
 ],
 "metadata": {
  "kernelspec": {
   "display_name": "Python 3",
   "language": "python",
   "name": "python3"
  },
  "language_info": {
   "codemirror_mode": {
    "name": "ipython",
    "version": 3
   },
   "file_extension": ".py",
   "mimetype": "text/x-python",
   "name": "python",
   "nbconvert_exporter": "python",
   "pygments_lexer": "ipython3",
   "version": "3.7.3"
  }
 },
 "nbformat": 4,
 "nbformat_minor": 2
}
