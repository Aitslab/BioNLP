{
 "cells": [
  {
   "cell_type": "code",
   "execution_count": 33,
   "metadata": {},
   "outputs": [
    {
     "data": {
      "text/html": "<div>\n<style scoped>\n    .dataframe tbody tr th:only-of-type {\n        vertical-align: middle;\n    }\n\n    .dataframe tbody tr th {\n        vertical-align: top;\n    }\n\n    .dataframe thead th {\n        text-align: right;\n    }\n</style>\n<table border=\"1\" class=\"dataframe\">\n  <thead>\n    <tr style=\"text-align: right;\">\n      <th></th>\n      <th>Criterion</th>\n      <th>Pass T5</th>\n    </tr>\n  </thead>\n  <tbody>\n    <tr>\n      <th>0</th>\n      <td>1. Title</td>\n      <td>Clearly stated; complete. Representative of th...</td>\n    </tr>\n    <tr>\n      <th>1</th>\n      <td>2.Abstract (max 300 words)</td>\n      <td>Correct length. Contains background, purpose, ...</td>\n    </tr>\n    <tr>\n      <th>2</th>\n      <td>3. Background CORE</td>\n      <td>Gives a general perspective on the topic suppo...</td>\n    </tr>\n    <tr>\n      <th>3</th>\n      <td>4.Purpose</td>\n      <td>Well formulated and relevant to the topic.</td>\n    </tr>\n    <tr>\n      <th>4</th>\n      <td>5. Scientific questions or hypothesis CORE</td>\n      <td>Well formulated and reflecting the purpose. We...</td>\n    </tr>\n    <tr>\n      <th>5</th>\n      <td>6. Methods CORE</td>\n      <td>Adequate for answering the scientific question...</td>\n    </tr>\n    <tr>\n      <th>6</th>\n      <td>7. Ethics Ethical permits should not be discus...</td>\n      <td>Research ethical considerations relevant for t...</td>\n    </tr>\n    <tr>\n      <th>7</th>\n      <td>9. Discussion CORE</td>\n      <td>Adequate discussion of the main results in rel...</td>\n    </tr>\n    <tr>\n      <th>8</th>\n      <td>10.Conclusion</td>\n      <td>Concisely states main findings and relates the...</td>\n    </tr>\n    <tr>\n      <th>9</th>\n      <td>11.References (formalia)</td>\n      <td>Relevant references, mainly scientific papers,...</td>\n    </tr>\n    <tr>\n      <th>10</th>\n      <td>12.Popular science abstract in Swedish</td>\n      <td>Relevant, clear and easy to grasp, using termi...</td>\n    </tr>\n    <tr>\n      <th>11</th>\n      <td>13.Structure and language CORE</td>\n      <td>Written in a structured way, correct use of sp...</td>\n    </tr>\n    <tr>\n      <th>12</th>\n      <td>NaN</td>\n      <td>correct language in relation to syllabus.</td>\n    </tr>\n    <tr>\n      <th>13</th>\n      <td>14.Declaration of own contribution</td>\n      <td>The declaration of the student ́s own specific...</td>\n    </tr>\n    <tr>\n      <th>14</th>\n      <td>15.Control of plagiarism</td>\n      <td>Minor or reasonable degree of overlap with pre...</td>\n    </tr>\n  </tbody>\n</table>\n</div>",
      "text/plain": "                                            Criterion  \\\n0                                            1. Title   \n1                          2.Abstract (max 300 words)   \n2                                  3. Background CORE   \n3                                           4.Purpose   \n4          5. Scientific questions or hypothesis CORE   \n5                                     6. Methods CORE   \n6   7. Ethics Ethical permits should not be discus...   \n7                                  9. Discussion CORE   \n8                                       10.Conclusion   \n9                            11.References (formalia)   \n10             12.Popular science abstract in Swedish   \n11                     13.Structure and language CORE   \n12                                                NaN   \n13                 14.Declaration of own contribution   \n14                           15.Control of plagiarism   \n\n                                              Pass T5  \n0   Clearly stated; complete. Representative of th...  \n1   Correct length. Contains background, purpose, ...  \n2   Gives a general perspective on the topic suppo...  \n3          Well formulated and relevant to the topic.  \n4   Well formulated and reflecting the purpose. We...  \n5   Adequate for answering the scientific question...  \n6   Research ethical considerations relevant for t...  \n7   Adequate discussion of the main results in rel...  \n8   Concisely states main findings and relates the...  \n9   Relevant references, mainly scientific papers,...  \n10  Relevant, clear and easy to grasp, using termi...  \n11  Written in a structured way, correct use of sp...  \n12          correct language in relation to syllabus.  \n13  The declaration of the student ́s own specific...  \n14  Minor or reasonable degree of overlap with pre...  "
     },
     "execution_count": 33,
     "metadata": {},
     "output_type": "execute_result"
    }
   ],
   "source": [
    "import pandas as pd\n",
    "\n",
    "df = pd.read_csv('/home/callebalik/projects/BioNLP/carl/docs/manuscript/source2/criteria_essay.csv')\n",
    "df = df.replace(regex=r'\\n',value=r' ')\n",
    "t5 = df[[\"Criterion\", \"Pass T5\"]]\n",
    "t5\n"
   ]
  }
 ],
 "metadata": {
  "kernelspec": {
   "display_name": "Python 3.8.5 64-bit ('data-science-tutorials': virtualenvwrapper)",
   "name": "python385jvsc74a57bd0ec4e6be7dca26f506752feb88d3ed1f893e28a239c0be35f93912aeb9c7d7e9f"
  },
  "language_info": {
   "name": "python",
   "version": ""
  },
  "orig_nbformat": 2
 },
 "nbformat": 4,
 "nbformat_minor": 2
}