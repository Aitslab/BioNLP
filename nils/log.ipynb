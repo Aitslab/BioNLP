{
 "cells": [
  {
   "cell_type": "markdown",
   "metadata": {},
   "source": [
    "# Logbook\n",
    "Nils Broman"
   ]
  },
  {
   "cell_type": "markdown",
   "metadata": {},
   "source": [
    "## March 2022\n",
    "\n",
    "---"
   ]
  },
  {
   "cell_type": "markdown",
   "metadata": {},
   "source": [
    "### Friday 25 March (25-03-22)\n",
    "---\n"
   ]
  },
  {
   "cell_type": "markdown",
   "metadata": {},
   "source": [
    "\n",
    "**Project:**\n",
    "\n",
    "Biomedical relation extraction with deep neural networks \n",
    "\n",
    "**Aim:**\n",
    "\n",
    "Go through steps of onboarding EDAN70 section in wiki. Refresh git knowledge \n",
    "\n",
    "**Description:**\n",
    "\n",
    "Started the [\"Git Complete: The definitive, step-by-step guide to Git\"](https://www.udemy.com/course/git-complete/) course on Udemy, read lab rules, checked that the teams and planner work.\n",
    "\n",
    "**Next Steps:**\n",
    "\n",
    "Continue with the git course, decide what NLP project to do. "
   ]
  },
  {
   "cell_type": "markdown",
   "metadata": {},
   "source": [
    "### Saturday 26 March (26-03-22)\n",
    "---\n"
   ]
  },
  {
   "cell_type": "markdown",
   "metadata": {},
   "source": [
    "\n",
    "**Project:**\n",
    "\n",
    "Untitled NLP\n",
    "\n",
    "**Aim:**\n",
    "\n",
    "Continue with git course\n",
    "\n",
    "**Description:**\n",
    "\n",
    "Nearly finished the course.\n",
    "\n",
    "**Next Steps:**\n",
    "\n",
    "Finish the course, decide on project, set up environment and git folder."
   ]
  },
  {
   "cell_type": "markdown",
   "metadata": {},
   "source": [
    "### Tuesday 29 March (29-03-22)\n",
    "---\n"
   ]
  },
  {
   "cell_type": "markdown",
   "metadata": {},
   "source": [
    "\n",
    "**Project:**\n",
    "\n",
    "Untitled NLP\n",
    "\n",
    "**Aim:**\n",
    "\n",
    "Finish git course\n",
    "\n",
    "**Description:**\n",
    "\n",
    "Completed the git course. \n",
    "\n",
    "**Next Steps:**\n",
    "\n",
    "Set up work environment and git repo"
   ]
  },
  {
   "cell_type": "markdown",
   "metadata": {},
   "source": [
    "### Wednesday 30 March (30-03-22)\n",
    "---\n"
   ]
  },
  {
   "cell_type": "markdown",
   "metadata": {},
   "source": [
    "\n",
    "**Project:**\n",
    "\n",
    "BioNLP\n",
    "\n",
    "**Aim:**\n",
    "\n",
    "Set up work environment, learn more about transformers\n",
    "\n",
    "**Description:**\n",
    "\n",
    "Created a new conda (v4.10.1) environment with python 3.10.4, tensorflow 2.8, cuda 11.2, cudnn 8.1.1\n",
    "\n",
    "**Next Steps:**\n",
    "\n",
    "--"
   ]
  },
  {
   "cell_type": "markdown",
   "metadata": {},
   "source": [
    "### Thursday 31 March (31-03-22)\n",
    "---\n"
   ]
  },
  {
   "cell_type": "markdown",
   "metadata": {},
   "source": [
    "\n",
    "**Project:**\n",
    "\n",
    "BioNLP\n",
    "\n",
    "**Aim:**\n",
    "\n",
    "* Read report of earlier project (\"Relation Extraction from medical literature using SciBERT\" by L. Axlin and K. Broman)\n",
    "* Set up new environment with PyTorch\n",
    "\n",
    "**Description:**\n",
    "\n",
    "Realized that the project this builds upon uses pytorch rather than tensorflow. Created a new conda (v4.10.1) environment with python 3.9.11, pytorch 1.11.0 and cuda 11.3. Also created notebooks to check that the environments used the gpu correctly.\n",
    "\n",
    "**Next Steps:**\n",
    "\n",
    "Finish reading report, download datasets and set up the SciBERT pipeline"
   ]
  },
  {
   "cell_type": "markdown",
   "metadata": {},
   "source": [
    "## April 2022\n",
    "\n",
    "---"
   ]
  },
  {
   "cell_type": "markdown",
   "metadata": {},
   "source": [
    "### Friday 1 April (01.04.22)\n",
    "---\n"
   ]
  },
  {
   "cell_type": "markdown",
   "metadata": {},
   "source": [
    "\n",
    "**Project:**\n",
    "\n",
    "BioNLP\n",
    "\n",
    "**Aim:**\n",
    "\n",
    "* Read report on prior project (\"Relation Extraction from medical literature using SciBERT\" by L. Axlin and K. Broman)\n",
    "* Get familiarized with their code\n",
    "* Set up pipeline\n",
    "\n",
    "**Description:**\n",
    "\n",
    "Previous project references to [Alexander Petter's github](https://github.com/Aitslab/nlp_2021_alexander_petter) for setting up the environment, where I learn that it's built on the older tensorflow version 1.15 and my current environments won't work. I tried following the setup, but being on the train with limited internet connection I ran into several problems. Read more about older pytorch and tensorflow versions and their compatibilities with different versions of CUDA/cuDNN, and realized that my desktop GPU may not be compatible with older versions. I'll have to look into this further when I get home. \n",
    "\n",
    "Read some more about NLP and SciBERT, including the [originial paper](https://arxiv.org/pdf/1903.10676.pdf).\n",
    "\n",
    "**Next Steps:**\n",
    "\n",
    "Continue to get familiarized with the code, investigate compatibility of tensorflow, cuda etc, and try to set up work environment and pipeline. "
   ]
  },
  {
   "cell_type": "markdown",
   "metadata": {},
   "source": [
    "### Sunday 3 April (03.04.22)\n",
    "---\n"
   ]
  },
  {
   "cell_type": "markdown",
   "metadata": {},
   "source": [
    "\n",
    "**Project:**\n",
    "\n",
    "BioNLP\n",
    "\n",
    "**Aim:**\n",
    "\n",
    "Learn more about NLP, in particular relation extraction. \n",
    "\n",
    "**Description:**\n",
    "\n",
    "Continued reading and watching lectures on NLP and RE. Some worth mentioning:\n",
    "\n",
    "[2019 Stanford lecture on relation extraction](https://www.youtube.com/watch?v=pO3Jsr31s_Q&list=PLNTMtnglvwsP9WAJrohDazRXX7zBXGPDW&index=5) and [the updated series from 2021](https://www.youtube.com/watch?v=4AjieiJ1CXo&list=PLoROMvodv4rPt5D0zs3YhbWSZA8Q_DyiJ&index=44)\n",
    "\n",
    "[ChemProt article](https://www.ncbi.nlm.nih.gov/pmc/articles/PMC3013776/)\n",
    "\n",
    "**Next Steps:**\n",
    "\n",
    "Continue to get familiarized with the code, investigate compatibility of tensorflow, cuda etc, and try to set up work environment and pipeline. "
   ]
  },
  {
   "cell_type": "markdown",
   "metadata": {},
   "source": [
    "### Tuesday 5 April (05.04.22)\n",
    "---\n"
   ]
  },
  {
   "cell_type": "markdown",
   "metadata": {},
   "source": [
    "\n",
    "**Project:**\n",
    "\n",
    "BioNLP\n",
    "\n",
    "**Aim:**\n",
    "\n",
    "Download datasets and set up SciBERT pipeline \n",
    "\n",
    "**Description:**\n",
    "\n",
    "Had big struggles getting tensorflow to work properly due to older version being incompatable rtx30xx gpus (tf 1.15 only works with cuda 10 and the gpus with cuda 11). Found some potential workarounds but they only worked on linux and my linux boot is not stable atm and I'm most likely going to reinstall it again from scratch, which doesn't seem like a priority. After further investigation of the code, it appears that this part of the project mostly uses pytorch and tf is used for another part of the complete projekt, namely NER-tagging. I decided on letting tf run on cpu for now and instead focus on actually setting up the pipeline.\n",
    "\n",
    "Downloaded the [chremprot corpus](https://biocreative.bioinformatics.udel.edu/news/corpora/chemprot-corpus-biocreative-vi/) and processed it using [alexanders extract_relation](https://github.com/Aitslab/nlp_2021_alexander_petter/tree/master/utils/chemprot)\n",
    "\n",
    "Added the [scripts from lykke_klara](https://github.com/Aitslab/BioNLP/tree/master/lykke_klara) and tried to add custom labels/build the data sets, but ran in to some issues with getting the correct paths.\n",
    "\n",
    "**Next Steps:**\n",
    "\n",
    "Continue setting up the pipeline"
   ]
  }
 ],
 "metadata": {
  "interpreter": {
   "hash": "78535e8465fcbd3302648d6980beb684db0b529edb1b5f591d2edb62135f7fe5"
  },
  "kernelspec": {
   "display_name": "Python 3.8.3 ('base')",
   "language": "python",
   "name": "python3"
  },
  "language_info": {
   "name": "python",
   "version": "3.10.4"
  },
  "orig_nbformat": 4
 },
 "nbformat": 4,
 "nbformat_minor": 2
}
