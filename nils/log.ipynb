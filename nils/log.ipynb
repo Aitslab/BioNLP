{
 "cells": [
  {
   "cell_type": "markdown",
   "metadata": {},
   "source": [
    "# Logbook\n",
    "Nils Broman"
   ]
  },
  {
   "cell_type": "markdown",
   "metadata": {},
   "source": [
    "## March 2022\n",
    "\n",
    "---"
   ]
  },
  {
   "cell_type": "markdown",
   "metadata": {},
   "source": [
    "### Friday 25 March (25-03-22)\n",
    "---\n"
   ]
  },
  {
   "cell_type": "markdown",
   "metadata": {},
   "source": [
    "\n",
    "**Project:**\n",
    "\n",
    "Untitled NLP\n",
    "\n",
    "**Aim:**\n",
    "\n",
    "Go through steps of onboarding EDAN70 section in wiki. Refresh git knowledge \n",
    "\n",
    "**Description:**\n",
    "\n",
    "Started the [\"Git Complete: The definitive, step-by-step guide to Git\"](https://www.udemy.com/course/git-complete/) course on Udemy, read lab rules, checked that the teams and planner work.\n",
    "\n",
    "**Next Steps:**\n",
    "\n",
    "Continue with the git course, decide what NLP project to do. "
   ]
  },
  {
   "cell_type": "markdown",
   "metadata": {},
   "source": [
    "### Saturday 26 March (26-03-22)\n",
    "---\n"
   ]
  },
  {
   "cell_type": "markdown",
   "metadata": {},
   "source": [
    "\n",
    "**Project:**\n",
    "\n",
    "Untitled NLP\n",
    "\n",
    "**Aim:**\n",
    "\n",
    "Continue with git course\n",
    "\n",
    "**Description:**\n",
    "\n",
    "Nearly finished the course.\n",
    "\n",
    "**Next Steps:**\n",
    "\n",
    "Finish the course, decide on project, set up environment and git folder."
   ]
  },
  {
   "cell_type": "markdown",
   "metadata": {},
   "source": [
    "### Tuesday 29 March (29-03-22)\n",
    "---\n"
   ]
  },
  {
   "cell_type": "markdown",
   "metadata": {},
   "source": [
    "\n",
    "**Project:**\n",
    "\n",
    "Untitled NLP\n",
    "\n",
    "**Aim:**\n",
    "\n",
    "Finish git course\n",
    "\n",
    "**Description:**\n",
    "\n",
    "Completed the git course. \n",
    "\n",
    "**Next Steps:**\n",
    "\n",
    "Set up work environment and git repo"
   ]
  },
  {
   "cell_type": "markdown",
   "metadata": {},
   "source": [
    "### Wednesday 30 March (30-03-22)\n",
    "---\n"
   ]
  },
  {
   "cell_type": "markdown",
   "metadata": {},
   "source": [
    "\n",
    "**Project:**\n",
    "\n",
    "BioNLP\n",
    "\n",
    "**Aim:**\n",
    "\n",
    "Set up work environment, learn more about transformers\n",
    "\n",
    "**Description:**\n",
    "\n",
    "Created a new conda (v4.10.1) environment with python 3.10.4, tensorflow 2.8, cuda 11.2, cudnn 8.1.1\n",
    "\n",
    "**Next Steps:**\n",
    "\n",
    "--"
   ]
  },
  {
   "cell_type": "markdown",
   "metadata": {},
   "source": [
    "### Thursday 31 March (31-03-22)\n",
    "---\n"
   ]
  },
  {
   "cell_type": "markdown",
   "metadata": {},
   "source": [
    "\n",
    "**Project:**\n",
    "\n",
    "BioNLP\n",
    "\n",
    "**Aim:**\n",
    "\n",
    "* Read report of earlier project (\"Relation Extraction from medical literature using SciBERT\" by L. Axlin and K. Broman)\n",
    "* Set up new environment with PyTorch\n",
    "\n",
    "**Description:**\n",
    "\n",
    "Realized that the project this builds upon uses pytorch rather than tensorflow. Created a new conda (v4.10.1) environment with python 3.9.11, pytorch 1.11.0 and cuda 11.3. Also created notebooks to check that the environments used the gpu correctly.\n",
    "\n",
    "**Next Steps:**\n",
    "\n",
    "Finish reading report, download datasets and set up the SciBERT pipeline"
   ]
  },
  {
   "cell_type": "markdown",
   "metadata": {},
   "source": [
    "## April 2022\n",
    "\n",
    "---"
   ]
  },
  {
   "cell_type": "markdown",
   "metadata": {},
   "source": [
    "### Friday 1 April (01.04.22)\n",
    "---\n"
   ]
  },
  {
   "cell_type": "markdown",
   "metadata": {},
   "source": [
    "\n",
    "**Project:**\n",
    "\n",
    "BioNLP\n",
    "\n",
    "**Aim:**\n",
    "\n",
    "--\n",
    "\n",
    "**Description:**\n",
    "\n",
    "--\n",
    "\n",
    "**Next Steps:**\n",
    "\n",
    "--"
   ]
  }
 ],
 "metadata": {
  "interpreter": {
   "hash": "78535e8465fcbd3302648d6980beb684db0b529edb1b5f591d2edb62135f7fe5"
  },
  "kernelspec": {
   "display_name": "Python 3.8.3 ('base')",
   "language": "python",
   "name": "python3"
  },
  "language_info": {
   "name": "python",
   "version": "3.10.0"
  },
  "orig_nbformat": 4
 },
 "nbformat": 4,
 "nbformat_minor": 2
}
