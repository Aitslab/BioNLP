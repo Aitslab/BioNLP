{
  "nbformat": 4,
  "nbformat_minor": 0,
  "metadata": {
    "colab": {
      "name": "FormatInputFile.ipynb",
      "provenance": [],
      "collapsed_sections": []
    },
    "kernelspec": {
      "name": "python3",
      "display_name": "Python 3"
    },
    "language_info": {
      "name": "python"
    }
  },
  "cells": [
    {
      "cell_type": "code",
      "metadata": {
        "colab": {
          "base_uri": "https://localhost:8080/"
        },
        "id": "Mer9jVs6j-fE",
        "outputId": "31a775f4-2954-4dbc-fcfd-ff533aa9d482"
      },
      "source": [
        "from google.colab import drive\n",
        "drive.mount('/content/drive')"
      ],
      "execution_count": null,
      "outputs": [
        {
          "output_type": "stream",
          "text": [
            "Mounted at /content/drive\n"
          ],
          "name": "stdout"
        }
      ]
    },
    {
      "cell_type": "code",
      "metadata": {
        "colab": {
          "base_uri": "https://localhost:8080/"
        },
        "id": "E21SmgfHkwP1",
        "outputId": "62fe8721-6700-44ec-c39b-14dfee832e4a"
      },
      "source": [
        "# This is a python script to convert Hunflair corpora to the same format as that of biobert input.\n",
        "\n",
        "import csv\n",
        "import re\n",
        "\n",
        "plus = r\"( O \\+)\"\n",
        "minus = r\"( O \\-)\"\n",
        "b = r\"(B-[A-Za-z]+ [\\+ \\-]?)\"\n",
        "isub = r\"(I-[A-Za-z]+ [\\+ \\-]?)\"\n",
        "newl = r\"(\\n\\n)\"\n",
        "\n",
        "#Takes a string as input and change to the IOB format\n",
        "def convert_iob(t):\n",
        "    t = re.sub(plus,  \"\\tO\", t)\n",
        "    t = re.sub(minus, \"\\tO\", t)\n",
        "    t = re.sub(b, \"\\tB\", t)\n",
        "    t = re.sub(isub,  \"\\tI\", t)\n",
        "    t = re.sub(newl, \"\\tnewLine2000\\tnewLine2000\\t\", t)\n",
        "    return t\n",
        "\n",
        "#Converts string to list\n",
        "def convert_to_list(string):\n",
        "    li = list(string.split())\n",
        "    return li\n",
        "\n",
        "#Converts list to tsv\n",
        "def list_to_tsv(list_to_convert):\n",
        "    with open(filetype +'.tsv', 'w', newline='') as f_output:\n",
        "        tsv_output = csv.writer(f_output, delimiter='\\t')\n",
        "        s = ''\n",
        "        for i in range(0,len(list_to_convert),2):\n",
        "            if list_to_convert[i] == 'newLine2000':\n",
        "                tsv_output.writerow(s)\n",
        "            else:\n",
        "                tsv_output.writerow([list_to_convert[i], list_to_convert[i + 1]])\n",
        "\n",
        "\n",
        "\n",
        "global filename \n",
        "filename = \"SciSpacySentenceSplitter_core_sci_sm_0.2.5_SciSpacyTokenizer_core_sci_sm_0.2.5_\"\n",
        "filetype = \"test\"\n",
        "path = \"/content/drive/MyDrive/biobert/Hunner_to_b_conv/species/huner_species_cell_finder\"\n",
        "\n",
        "c = open(path + \"/\" + filename + filetype +\".conll\",\"r\", encoding=\"utf-8\")\n",
        "\n",
        "text = c.read()\n",
        "\n",
        "text = convert_iob(text)\n",
        "l = convert_to_list(text)\n",
        "\n",
        "print(l[0:100])\n",
        "list_to_tsv(l)\n",
        "\n"
      ],
      "execution_count": null,
      "outputs": [
        {
          "output_type": "stream",
          "text": [
            "['BackgroundUsing', 'O', 'antibodies', 'O', 'to', 'O', 'specific', 'O', 'protein', 'O', 'antigens', 'O', 'is', 'O', 'the', 'O', 'method', 'O', 'of', 'O', 'choice', 'O', 'to', 'O', 'assign', 'O', 'and', 'O', 'identify', 'O', 'cell', 'O', 'lineage', 'O', 'through', 'O', 'simultaneous', 'O', 'analysis', 'O', 'of', 'O', 'surface', 'O', 'molecules', 'O', 'and', 'O', 'intracellular', 'O', 'markers', 'O', '.', 'O', 'newLine2000', 'newLine2000', 'Embryonic', 'O', 'stem', 'O', 'cell', 'O', 'research', 'O', 'can', 'O', 'be', 'O', 'benefited', 'O', 'from', 'O', 'using', 'O', 'antibodies', 'O', 'specific', 'O', 'to', 'O', 'transcriptional', 'O', 'factors', 'O', '/', 'O', 'markers', 'O', 'that', 'O', 'contribute', 'O', 'to', 'O', 'the', 'O', '\"', 'O', 'stemness', 'O']\n"
          ],
          "name": "stdout"
        }
      ]
    },
    {
      "cell_type": "code",
      "metadata": {
        "id": "oGZf9J-h8qnG"
      },
      "source": [
        ""
      ],
      "execution_count": null,
      "outputs": []
    }
  ]
}